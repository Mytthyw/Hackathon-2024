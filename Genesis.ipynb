{
 "cells": [
  {
   "cell_type": "code",
   "execution_count": 56,
   "metadata": {},
   "outputs": [],
   "source": [
    "import pandas as pd\n",
    "import numpy as np\n",
    "from sklearn.tree import DecisionTreeClassifier \n",
    "from sklearn.ensemble import RandomForestClassifier  # Import RandomForestClassifier\n",
    "from sklearn.metrics import accuracy_score  \n",
    "from sklearn.model_selection import GridSearchCV, RandomizedSearchCV\n",
    "from sklearn.pipeline import Pipeline\n",
    "from sklearn.impute import SimpleImputer\n",
    "from sklearn.preprocessing import StandardScaler\n",
    "from sklearn.ensemble import RandomForestRegressor\n",
    "\n",
    "from pprint import pprint\n"
   ]
  },
  {
   "cell_type": "code",
   "execution_count": 45,
   "metadata": {},
   "outputs": [],
   "source": [
    "# Load datasets\n",
    "df = pd.read_csv(\"Surveydata_train_(2).csv\")\n",
    "dftest = pd.read_csv(\"Surveydata_test_(2).csv\")\n",
    "dftravel = pd.read_csv('Traveldata_train_(2).csv')\n",
    "dftraveltest = pd.read_csv('Traveldata_test_(2).csv')"
   ]
  },
  {
   "cell_type": "code",
   "execution_count": 46,
   "metadata": {},
   "outputs": [],
   "source": [
    "train_data = pd.merge(df, dftravel, on='ID', how='inner')\n",
    "test_data = pd.merge(dftest, dftraveltest, on='ID', how='inner')"
   ]
  },
  {
   "cell_type": "code",
   "execution_count": 26,
   "metadata": {},
   "outputs": [
    {
     "data": {
      "text/plain": [
       "ID                            0\n",
       "Overall_Experience            0\n",
       "Seat_Comfort                 61\n",
       "Seat_Class                    0\n",
       "Arrival_Time_Convenient    8930\n",
       "Catering                   8741\n",
       "Platform_Location            30\n",
       "Onboard_Wifi_Service         30\n",
       "Onboard_Entertainment        18\n",
       "Online_Support               91\n",
       "Ease_of_Online_Booking       73\n",
       "Onboard_Service            7601\n",
       "Legroom                      90\n",
       "Baggage_Handling            142\n",
       "CheckIn_Service              77\n",
       "Cleanliness                   6\n",
       "Online_Boarding               6\n",
       "Gender                       77\n",
       "Customer_Type              8951\n",
       "Age                          33\n",
       "Type_Travel                9226\n",
       "Travel_Class                  0\n",
       "Travel_Distance               0\n",
       "Departure_Delay_in_Mins      57\n",
       "Arrival_Delay_in_Mins       357\n",
       "dtype: int64"
      ]
     },
     "execution_count": 26,
     "metadata": {},
     "output_type": "execute_result"
    }
   ],
   "source": [
    "train_data.isnull().sum()"
   ]
  },
  {
   "cell_type": "code",
   "execution_count": 28,
   "metadata": {},
   "outputs": [],
   "source": [
    "train_data.loc[train_data['Seat_Comfort'].isnull(), 'Seat_Comfort'] = train_data['Seat_Comfort'].mode()[0]\n",
    "train_data.loc[train_data['Arrival_Time_Convenient'].isnull(), 'Arrival_Time_Convenient'] = train_data['Arrival_Time_Convenient'].mode()[0]\n",
    "train_data.loc[train_data['Catering'].isnull(), 'Catering'] = train_data['Catering'].mode()[0]\n",
    "train_data.loc[train_data['Platform_Location'].isnull(), 'Platform_Location'] = train_data['Platform_Location'].mode()[0]\n",
    "train_data.loc[train_data['Onboard_Wifi_Service'].isnull(), 'Onboard_Wifi_Service'] = train_data['Onboard_Wifi_Service'].mode()[0]\n",
    "train_data.loc[train_data['Onboard_Entertainment'].isnull(), 'Onboard_Entertainment'] = train_data['Onboard_Entertainment'].mode()[0]\n",
    "train_data.loc[train_data['Online_Support'].isnull(), 'Online_Support'] = train_data['Online_Support'].mode()[0]\n",
    "train_data.loc[train_data['Ease_of_Online_Booking'].isnull(), 'Ease_of_Online_Booking'] = train_data['Ease_of_Online_Booking'].mode()[0]\n",
    "train_data.loc[train_data['Onboard_Service'].isnull(), 'Onboard_Service'] = train_data['Onboard_Service'].mode()[0]\n",
    "train_data.loc[train_data['Legroom'].isnull(), 'Legroom'] = train_data['Legroom'].mode()[0]\n",
    "train_data.loc[train_data['Baggage_Handling'].isnull(), 'Baggage_Handling'] = train_data['Baggage_Handling'].mode()[0]\n",
    "train_data.loc[train_data['CheckIn_Service'].isnull(), 'CheckIn_Service'] = train_data['CheckIn_Service'].mode()[0]\n",
    "train_data.loc[train_data['Cleanliness'].isnull(), 'Cleanliness'] = train_data['Cleanliness'].mode()[0]\n",
    "train_data.loc[train_data['Online_Boarding'].isnull(), 'Online_Boarding'] = train_data['Online_Boarding'].mode()[0]\n",
    "train_data.loc[train_data['Gender'].isnull(), 'Gender'] = train_data['Gender'].mode()[0]\n",
    "train_data.loc[train_data['Customer_Type'].isnull(), 'Customer_Type'] = train_data['Customer_Type'].mode()[0]\n",
    "train_data.loc[train_data['Age'].isnull(), 'Age'] = train_data['Age'].mode()[0]\n",
    "train_data.loc[train_data['Type_Travel'].isnull(), 'Type_Travel'] = train_data['Type_Travel'].mode()[0]\n",
    "train_data.loc[train_data['Departure_Delay_in_Mins'].isnull(), 'Departure_Delay_in_Mins'] = train_data['Departure_Delay_in_Mins'].mode()[0]\n",
    "train_data.loc[train_data['Arrival_Delay_in_Mins'].isnull(), 'Arrival_Delay_in_Mins'] = train_data['Arrival_Delay_in_Mins'].mode()[0]"
   ]
  },
  {
   "cell_type": "code",
   "execution_count": 47,
   "metadata": {},
   "outputs": [],
   "source": [
    "X_train = train_data.drop(columns=[\"Overall_Experience\"])\n",
    "y_train = train_data[\"Overall_Experience\"]\n",
    "\n",
    "test_ID = test_data[\"ID\"]\n",
    "X_test = test_data.drop(columns=[\"ID\"]) \n",
    "\n",
    "combined_data = pd.concat([X_train, X_test], keys=[\"train\", \"test\"])\n",
    "combined_data = pd.get_dummies(combined_data)\n",
    "\n",
    "X_train_encoded = combined_data.loc[\"train\"]\n",
    "X_test_encoded = combined_data.loc[\"test\"]\n",
    "\n",
    "X_test_encoded = X_test_encoded.reindex(columns=X_train_encoded.columns, fill_value=0)"
   ]
  },
  {
   "cell_type": "code",
   "execution_count": 30,
   "metadata": {},
   "outputs": [],
   "source": [
    "# Initialize and train the decision tree model\n",
    "model = DecisionTreeClassifier()  # Or DecisionTreeRegressor for regression\n",
    "model.fit(X_train_encoded, y_train)\n",
    "\n",
    "# Make predictions on the encoded test set\n",
    "test_predictions = model.predict(X_test_encoded)\n",
    "\n",
    "# Save predictions to CSV with ID and predicted outcome\n",
    "output_df = pd.DataFrame({\"ID\": test_ID, \"Overall_Experience\": test_predictions})\n",
    "output_df.to_csv(\"predictions.csv\", index=False)\n"
   ]
  },
  {
   "cell_type": "code",
   "execution_count": 48,
   "metadata": {},
   "outputs": [],
   "source": [
    "model = RandomForestClassifier(n_estimators=1500, random_state=42)  # Adjust n_estimators as needed\n",
    "model.fit(X_train_encoded, y_train)\n",
    "\n",
    "# Make predictions on the encoded test set\n",
    "test_predictions = model.predict(X_test_encoded)\n",
    "\n",
    "# Save predictions to CSV with ID and predicted outcome\n",
    "output_df = pd.DataFrame({\"ID\": test_ID, \"Overall_Experience\": test_predictions})\n",
    "output_df.to_csv(\"predictions_rf.csv\", index=False)"
   ]
  },
  {
   "cell_type": "code",
   "execution_count": 50,
   "metadata": {},
   "outputs": [
    {
     "name": "stdout",
     "output_type": "stream",
     "text": [
      "Parameters currently in use:\n",
      "\n",
      "{'bootstrap': True,\n",
      " 'ccp_alpha': 0.0,\n",
      " 'class_weight': None,\n",
      " 'criterion': 'gini',\n",
      " 'max_depth': None,\n",
      " 'max_features': 'sqrt',\n",
      " 'max_leaf_nodes': None,\n",
      " 'max_samples': None,\n",
      " 'min_impurity_decrease': 0.0,\n",
      " 'min_samples_leaf': 1,\n",
      " 'min_samples_split': 2,\n",
      " 'min_weight_fraction_leaf': 0.0,\n",
      " 'monotonic_cst': None,\n",
      " 'n_estimators': 1500,\n",
      " 'n_jobs': None,\n",
      " 'oob_score': False,\n",
      " 'random_state': 42,\n",
      " 'verbose': 0,\n",
      " 'warm_start': False}\n"
     ]
    }
   ],
   "source": [
    "print('Parameters currently in use:\\n')\n",
    "pprint(model.get_params())"
   ]
  },
  {
   "cell_type": "code",
   "execution_count": null,
   "metadata": {},
   "outputs": [
    {
     "name": "stdout",
     "output_type": "stream",
     "text": [
      "{'bootstrap': [True, False],\n",
      " 'max_depth': [10, 20, 30, 40, 50, 60, 70, 80, 90, 100, 110, None],\n",
      " 'max_features': ['auto', 'sqrt'],\n",
      " 'min_samples_leaf': [1, 2, 4],\n",
      " 'min_samples_split': [2, 5, 10],\n",
      " 'n_estimators': [1000,\n",
      "                  1100,\n",
      "                  1200,\n",
      "                  1300,\n",
      "                  1400,\n",
      "                  1500,\n",
      "                  1600,\n",
      "                  1700,\n",
      "                  1800,\n",
      "                  1900,\n",
      "                  2000,\n",
      "                  2100,\n",
      "                  2200,\n",
      "                  2300,\n",
      "                  2400,\n",
      "                  2500]}\n",
      "Fitting 3 folds for each of 100 candidates, totalling 300 fits\n"
     ]
    }
   ],
   "source": [
    "n_estimators = [int(x) for x in np.linspace(start=1000, stop=2500, num=16)]\n",
    "max_features = ['auto', 'sqrt']\n",
    "max_depth = [int(x) for x in np.linspace(10, 110, num=11)]\n",
    "max_depth.append(None)\n",
    "min_samples_split = [2, 5, 10]\n",
    "min_samples_leaf = [1, 2, 4]\n",
    "bootstrap = [True, False]\n",
    "\n",
    "# Create the random grid\n",
    "random_grid = {\n",
    "    'n_estimators': n_estimators,\n",
    "    'max_features': max_features,\n",
    "    'max_depth': max_depth,\n",
    "    'min_samples_split': min_samples_split,\n",
    "    'min_samples_leaf': min_samples_leaf,\n",
    "    'bootstrap': bootstrap\n",
    "}\n",
    "\n",
    "pprint(random_grid)\n",
    "\n",
    "# Initialize Random Forest Classifier\n",
    "rf = RandomForestClassifier(random_state=42)  # Use RandomForestRegressor if the target variable is continuous\n",
    "\n",
    "# Random search of parameters, using 3-fold cross-validation\n",
    "rf_random = RandomizedSearchCV(\n",
    "    estimator=rf,\n",
    "    param_distributions=random_grid,\n",
    "    n_iter=100,\n",
    "    cv=3,\n",
    "    verbose=2,\n",
    "    random_state=42,\n",
    "    n_jobs=-1\n",
    ")\n",
    "\n",
    "# Fit the random search model\n",
    "rf_random.fit(X_train_encoded, y_train)\n",
    "\n",
    "# Make predictions on the encoded test set using the best estimator\n",
    "test_predictions = rf_random.predict(X_test_encoded)\n",
    "\n",
    "# Save predictions to CSV with ID and predicted outcome\n",
    "output_df = pd.DataFrame({\"ID\": test_ID, \"Overall_Experience\": test_predictions})\n",
    "output_df.to_csv(\"predictions_rf_random_search.csv\", index=False)\n",
    "\n",
    "# Print best parameters and accuracy score on training set\n",
    "print(\"Best Parameters:\", rf_random.best_params_)\n",
    "train_predictions = rf_random.predict(X_train_encoded)\n",
    "print(\"Training Accuracy Score:\", accuracy_score(y_train, train_predictions))"
   ]
  }
 ],
 "metadata": {
  "kernelspec": {
   "display_name": "DeepLearning",
   "language": "python",
   "name": "python3"
  },
  "language_info": {
   "codemirror_mode": {
    "name": "ipython",
    "version": 3
   },
   "file_extension": ".py",
   "mimetype": "text/x-python",
   "name": "python",
   "nbconvert_exporter": "python",
   "pygments_lexer": "ipython3",
   "version": "3.12.4"
  }
 },
 "nbformat": 4,
 "nbformat_minor": 2
}
